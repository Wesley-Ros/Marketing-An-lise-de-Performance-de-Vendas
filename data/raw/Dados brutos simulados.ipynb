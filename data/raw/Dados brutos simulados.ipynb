{
 "cells": [
  {
   "cell_type": "markdown",
   "id": "4d0960b0-55fc-4443-84cb-d95e46a7ffc7",
   "metadata": {},
   "source": [
    "**GERANDO O DATABASE DO PROJETO**\n"
   ]
  },
  {
   "cell_type": "code",
   "execution_count": 16,
   "id": "3cdeca41-da48-44dc-8d6b-67658ae598a9",
   "metadata": {},
   "outputs": [],
   "source": [
    "import os\n",
    "import random\n",
    "import pandas as pd\n",
    "import numpy as np\n",
    "from faker import Faker"
   ]
  },
  {
   "cell_type": "code",
   "execution_count": 5,
   "id": "ad299b7a-59f1-4b5a-8a33-c2c0b83d5b4a",
   "metadata": {},
   "outputs": [],
   "source": [
    "# Inicializar Faker para gerar dados fictícios\n",
    "fake = Faker()\n",
    "\n",
    "# Definir categorias e canais de vendas\n",
    "product_categories = ['Smartphones', 'Laptops', 'Acessórios', 'Tablets', 'Smartwatches']\n",
    "sales_channels = ['E-commerce', 'Parceiros']\n",
    "locations = ['São Paulo', 'Rio de Janeiro', 'Belo Horizonte', 'Curitiba', 'Porto Alegre']"
   ]
  },
  {
   "cell_type": "code",
   "execution_count": 6,
   "id": "acc10b67-6b93-490d-8987-fc9b44de60e5",
   "metadata": {},
   "outputs": [],
   "source": [
    "# Criar dados fictícios para 2.000 vendas\n",
    "data = []\n",
    "for _ in range(2000):\n",
    "    sale_id = fake.uuid4()  # ID único da venda\n",
    "    date = fake.date_between(start_date='-1y', end_date='today')  # Data no último ano\n",
    "    product_category = random.choice(product_categories)  # Categoria aleatória\n",
    "    sales_channel = random.choice(sales_channels)  # Canal de vendas aleatório\n",
    "    units_sold = random.randint(1, 10)  # Quantidade de unidades vendidas\n",
    "    unit_price = random.uniform(50, 1000)  # Preço por unidade\n",
    "    revenue = round(units_sold * unit_price, 2)  # Receita total\n",
    "    location = random.choice(locations)  # Localização aleatória\n",
    "    \n",
    "    data.append([sale_id, date, product_category, sales_channel, units_sold, revenue, location])\n"
   ]
  },
  {
   "cell_type": "code",
   "execution_count": 7,
   "id": "738a8921-bdb0-4ae8-8135-a3815e569ed6",
   "metadata": {},
   "outputs": [],
   "source": [
    "# Criar DataFrame\n",
    "columns = ['sale_id', 'date', 'product_category', 'sales_channel', 'units_sold', 'revenue', 'location']\n",
    "df = pd.DataFrame(data, columns=columns)"
   ]
  },
  {
   "cell_type": "code",
   "execution_count": 17,
   "id": "47ba2d73-5615-4a35-8a8b-25559c7d36d4",
   "metadata": {},
   "outputs": [],
   "source": [
    "# Verificar a pasta de destino\n",
    "output_dir = \"data/raw\"\n",
    "os.makedirs(output_dir, exist_ok=True)"
   ]
  },
  {
   "cell_type": "code",
   "execution_count": 18,
   "id": "ced3c9dc-c25c-4c56-995f-f0498397f8db",
   "metadata": {},
   "outputs": [],
   "source": [
    "# Definir o caminho do arquivo CSV\n",
    "output_path = os.path.join(output_dir, \"sales_data.csv\")"
   ]
  },
  {
   "cell_type": "code",
   "execution_count": 19,
   "id": "3aa634d4-1f95-468a-b276-a438781c76e1",
   "metadata": {},
   "outputs": [],
   "source": [
    "# Salvar como CSV\n",
    "df.to_csv(output_path, index=False)"
   ]
  },
  {
   "cell_type": "code",
   "execution_count": 20,
   "id": "2c832ce0-0dd0-4add-b1c4-70c02622acf4",
   "metadata": {},
   "outputs": [
    {
     "name": "stdout",
     "output_type": "stream",
     "text": [
      "Conjunto de dados criado e salvo em: data/raw\\sales_data.csv\n"
     ]
    }
   ],
   "source": [
    "print(f\"Conjunto de dados criado e salvo em: {output_path}\")"
   ]
  }
 ],
 "metadata": {
  "kernelspec": {
   "display_name": "Python 3 (ipykernel)",
   "language": "python",
   "name": "python3"
  },
  "language_info": {
   "codemirror_mode": {
    "name": "ipython",
    "version": 3
   },
   "file_extension": ".py",
   "mimetype": "text/x-python",
   "name": "python",
   "nbconvert_exporter": "python",
   "pygments_lexer": "ipython3",
   "version": "3.12.7"
  }
 },
 "nbformat": 4,
 "nbformat_minor": 5
}
