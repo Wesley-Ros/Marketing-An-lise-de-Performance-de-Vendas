{
 "cells": [
  {
   "cell_type": "code",
   "execution_count": 66,
   "id": "0857e97e-ae27-4aef-9cb3-89530e53b6dc",
   "metadata": {},
   "outputs": [],
   "source": [
    "import random\n",
    "import pandas as pd\n",
    "from faker import Faker\n",
    "from datetime import datetime"
   ]
  },
  {
   "cell_type": "code",
   "execution_count": 67,
   "id": "aa85058b-e636-4416-9f1e-984a4ea84a30",
   "metadata": {},
   "outputs": [],
   "source": [
    "# Inicializar Faker para gerar dados fictícios\n",
    "fake = Faker()"
   ]
  },
  {
   "cell_type": "code",
   "execution_count": 68,
   "id": "7335c0be-2bda-4b3c-97aa-bb06d13bc0d7",
   "metadata": {},
   "outputs": [],
   "source": [
    "# Definir categorias, canais de vendas, estados e cidades associadas\n",
    "product_categories = ['Smartphones', 'Laptops', 'Acessórios', 'Tablets', 'Smartwatches']\n",
    "sales_channels = ['E-commerce', 'Marketplace']\n",
    "states_and_cities = {\n",
    "    'São Paulo': ['São Paulo', 'Campinas', 'Santos'],\n",
    "    'Rio de Janeiro': ['Rio de Janeiro', 'Niterói', 'Petrópolis'],\n",
    "    'Minas Gerais': ['Belo Horizonte', 'Uberlândia', 'Juiz de Fora'],\n",
    "    'Paraná': ['Curitiba', 'Londrina', 'Maringá'],\n",
    "    'Rio Grande do Sul': ['Porto Alegre', 'Caxias do Sul', 'Pelotas']\n",
    "}\n",
    "# Preços médios por categoria de produto (valores médios aleatórios dentro dos intervalos fornecidos)\n",
    "category_price_range = {\n",
    "    'Tablets': (1090, 4230),\n",
    "    'Smartphones': (1300, 4500),\n",
    "    'Smartwatches': (980, 1800),\n",
    "    'Laptops': (2500, 5700),\n",
    "    'Acessórios': (50, 890)\n",
    "}\n"
   ]
  },
  {
   "cell_type": "code",
   "execution_count": 69,
   "id": "59032691-9be5-45c8-a1cc-e0bc19edcda9",
   "metadata": {},
   "outputs": [],
   "source": [
    "# Função para verificar se a venda ocorreu durante uma campanha\n",
    "def verificar_campanha(data_venda):\n",
    "    ano_venda = data_venda.year  # Obtém o ano da venda (ainda nao estou satisfeito com esta etapa, quero melhorar este código)\n",
    "    campanhas = [\n",
    "        {\"id_campanha\": 1, \"nome\": \"Dia das Mães\", \"data_inicio\": f\"{ano_venda}-05-10\", \"data_fim\": f\"{ano_venda}-05-14\", \"investimento\": 10000},\n",
    "        {\"id_campanha\": 2, \"nome\": \"Dia dos Pais\", \"data_inicio\": f\"{ano_venda}-08-01\", \"data_fim\": f\"{ano_venda}-08-10\", \"investimento\": 15000},\n",
    "        {\"id_campanha\": 3, \"nome\": \"Dia do Consumidor\", \"data_inicio\": f\"{ano_venda}-03-15\", \"data_fim\": f\"{ano_venda}-03-15\", \"investimento\": 19000},\n",
    "        {\"id_campanha\": 4, \"nome\": \"Black Friday\", \"data_inicio\": f\"{ano_venda}-11-29\", \"data_fim\": f\"{ano_venda}-11-29\", \"investimento\": 30000},\n",
    "        {\"id_campanha\": 5, \"nome\": \"Promoção de Aniversário da Loja\", \"data_inicio\": f\"{ano_venda}-02-01\", \"data_fim\": f\"{ano_venda}-02-15\", \"investimento\": 12000},\n",
    "        {\"id_campanha\": 6, \"nome\": \"Super Ofertas do Mês\", \"data_inicio\": f\"{ano_venda}-06-01\", \"data_fim\": f\"{ano_venda}-06-30\", \"investimento\": 10000},\n",
    "        {\"id_campanha\": 7, \"nome\": \"Inverno Tecnológico\", \"data_inicio\": f\"{ano_venda}-07-01\", \"data_fim\": f\"{ano_venda}-07-31\", \"investimento\": 15000},\n",
    "        {\"id_campanha\": 8, \"nome\": \"Semana da Tecnologia\", \"data_inicio\": f\"{ano_venda}-09-01\", \"data_fim\": f\"{ano_venda}-09-07\", \"investimento\": 8000},\n",
    "        {\"id_campanha\": 9, \"nome\": \"Ofertas Imperdíveis\", \"data_inicio\": f\"{ano_venda}-11-20\", \"data_fim\": f\"{ano_venda}-11-30\", \"investimento\": 20000},\n",
    "    ]\n",
    "    \n",
    "    for campanha in campanhas:\n",
    "        # Converter as datas de início e fim da campanha para datetime.date\n",
    "        data_inicio = datetime.strptime(campanha[\"data_inicio\"], \"%Y-%m-%d\").date()\n",
    "        data_fim = datetime.strptime(campanha[\"data_fim\"], \"%Y-%m-%d\").date()\n",
    "        \n",
    "        # Verificar se a data da venda está dentro do período da campanha\n",
    "        if data_inicio <= data_venda <= data_fim:\n",
    "            return campanha\n",
    "    \n",
    "    return None"
   ]
  },
  {
   "cell_type": "code",
   "execution_count": 70,
   "id": "45e5bb95-f9a3-4409-a8ad-d0ac95046cce",
   "metadata": {},
   "outputs": [],
   "source": [
    "# Função para obter o preço unitário de um produto com base na categoria\n",
    "def obter_preco_categoria(categoria_produto):\n",
    "    min_price, max_price = category_price_range[categoria_produto]\n",
    "    return round(random.uniform(min_price, max_price), 2)"
   ]
  },
  {
   "cell_type": "code",
   "execution_count": 71,
   "id": "8e8189b3-60d3-4ea0-9422-e685f421f04e",
   "metadata": {},
   "outputs": [],
   "source": [
    "# Criar dados fictícios para 10000 vendas\n",
    "dados_vendas = []  # Lista para armazenar as vendas geradas"
   ]
  },
  {
   "cell_type": "code",
   "execution_count": 72,
   "id": "696d9a30-e185-44df-87ef-787c37fe5de4",
   "metadata": {},
   "outputs": [],
   "source": [
    "# Criar dados fictícios para 90000 vendas\n",
    "dados_vendas = []  # Lista para armazenar as vendas geradas\n",
    "\n",
    "# Loop para gerar 90000 registros\n",
    "for i in range(90000):\n",
    "    # Gerar um ID único para a venda\n",
    "    id_venda = random.randint(10000, 99999)\n",
    "    data_venda = fake.date_between(start_date='-1y', end_date='today')\n",
    "    data_venda_dt = datetime.strptime(str(data_venda), \"%Y-%m-%d\").date()  # Converter para formato de data\n",
    "\n",
    "    # Verificar se a venda ocorreu durante uma campanha\n",
    "    campanha = verificar_campanha(data_venda_dt)\n",
    "\n",
    "    if campanha:\n",
    "        id_campanha = campanha[\"id_campanha\"]\n",
    "        nome_campanha = campanha[\"nome\"]\n",
    "        investimento_campanha = campanha[\"investimento\"]\n",
    "    else:\n",
    "        id_campanha = None\n",
    "        nome_campanha = None\n",
    "        investimento_campanha = 0\n",
    "\n",
    "    # Gerar dados adicionais para a venda\n",
    "    categoria_produto = random.choice(product_categories)\n",
    "    canal_vendas = random.choice(sales_channels)\n",
    "    unidades_vendidas = random.randint(1, 10)\n",
    "    preco_unitario = obter_preco_categoria(categoria_produto)  # Preço aleatório dentro do intervalo da categoria\n",
    "    receita = round(unidades_vendidas * preco_unitario, 2)\n",
    "    localizacao = random.choice(locations)\n",
    "    cidade = random.choice(cidades)  # Cidade aleatória\n",
    "\n",
    "    # Adicionar os dados da venda à lista\n",
    "    dados_vendas.append([id_venda, data_venda_dt, categoria_produto, canal_vendas, \n",
    "                         unidades_vendidas, receita, localizacao, cidade, \n",
    "                         id_campanha, nome_campanha, investimento_campanha])"
   ]
  },
  {
   "cell_type": "code",
   "execution_count": 73,
   "id": "9a321558-69c5-4952-9518-f6d2c9887893",
   "metadata": {},
   "outputs": [],
   "source": [
    "# Criar o DataFrame usando pandas\n",
    "df_vendas = pd.DataFrame(dados_vendas, columns=['id_venda', 'data_venda', 'categoria_produto', 'canal_vendas', \n",
    "                                               'unidades_vendidas', 'receita', 'localizacao', 'cidade', \n",
    "                                               'id_campanha', 'nome_campanha', 'investimento_campanha'])"
   ]
  },
  {
   "cell_type": "code",
   "execution_count": 74,
   "id": "81a65bd4-1acb-4503-a3a5-9864e0916078",
   "metadata": {},
   "outputs": [
    {
     "name": "stdout",
     "output_type": "stream",
     "text": [
      "Número de registros gerados: 90000\n"
     ]
    }
   ],
   "source": [
    "# Verificar se o DataFrame está correto antes de salvar\n",
    "print(f'Número de registros gerados: {len(df_vendas)}')"
   ]
  },
  {
   "cell_type": "code",
   "execution_count": 77,
   "id": "56651f2e-06b9-4b53-bd35-8fa6f47c8265",
   "metadata": {},
   "outputs": [],
   "source": [
    "# Escrever o DataFrame no arquivo CSV\n",
    "nome_arquivo = 'vendas_com_precos.csv'\n",
    "df_vendas.to_csv(nome_arquivo, index=False, encoding='utf-8')"
   ]
  },
  {
   "cell_type": "code",
   "execution_count": 78,
   "id": "4f4eb673-2de7-4eee-8e69-144671cdca16",
   "metadata": {},
   "outputs": [
    {
     "name": "stdout",
     "output_type": "stream",
     "text": [
      "90000 vendas foram geradas e gravadas no arquivo \"vendas_com_precos.csv\".\n"
     ]
    }
   ],
   "source": [
    "print(f'{len(dados_vendas)} vendas foram geradas e gravadas no arquivo \"{nome_arquivo}\".')"
   ]
  },
  {
   "cell_type": "code",
   "execution_count": null,
   "id": "bcaea707-69f2-4bfd-b05d-c1b4e16b30db",
   "metadata": {},
   "outputs": [],
   "source": []
  }
 ],
 "metadata": {
  "kernelspec": {
   "display_name": "Python 3 (ipykernel)",
   "language": "python",
   "name": "python3"
  },
  "language_info": {
   "codemirror_mode": {
    "name": "ipython",
    "version": 3
   },
   "file_extension": ".py",
   "mimetype": "text/x-python",
   "name": "python",
   "nbconvert_exporter": "python",
   "pygments_lexer": "ipython3",
   "version": "3.12.7"
  }
 },
 "nbformat": 4,
 "nbformat_minor": 5
}
