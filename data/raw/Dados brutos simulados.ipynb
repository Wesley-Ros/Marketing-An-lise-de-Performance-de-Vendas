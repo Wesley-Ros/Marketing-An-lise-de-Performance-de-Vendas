{
 "cells": [
  {
   "cell_type": "markdown",
   "id": "4d0960b0-55fc-4443-84cb-d95e46a7ffc7",
   "metadata": {},
   "source": [
    "**GERANDO O DATABASE DO PROJETO**\n"
   ]
  },
  {
   "cell_type": "code",
   "execution_count": 48,
   "id": "3cdeca41-da48-44dc-8d6b-67658ae598a9",
   "metadata": {},
   "outputs": [],
   "source": [
    "import os\n",
    "import random\n",
    "import pandas as pd\n",
    "from faker import Faker"
   ]
  },
  {
   "cell_type": "code",
   "execution_count": 49,
   "id": "ad299b7a-59f1-4b5a-8a33-c2c0b83d5b4a",
   "metadata": {},
   "outputs": [],
   "source": [
    "# Inicializar Faker para gerar dados fictícios em português\n",
    "fake = Faker('pt_BR')\n",
    "\n",
    "# Definir categorias e canais de vendas\n",
    "categorias_produtos = ['Smartphones', 'Laptops', 'Acessórios', 'Tablets', 'Smartwatches']\n",
    "canais_vendas = ['E-commerce', 'Parceiros']\n",
    "localizacoes = ['São Paulo', 'Rio de Janeiro', 'Belo Horizonte', 'Curitiba', 'Porto Alegre']"
   ]
  },
  {
   "cell_type": "code",
   "execution_count": 63,
   "id": "acc10b67-6b93-490d-8987-fc9b44de60e5",
   "metadata": {},
   "outputs": [],
   "source": [
    "# Criar dados fictícios (vendas)\n",
    "dados = []\n",
    "for _ in range(2000):  # Volumetria de dados\n",
    "    id_venda = random.randint(1, 99999)  # ID numérico aleatório com até 5 dígitos\n",
    "    data_venda = fake.date_between(start_date='-1y', end_date='today')  # Data no último ano\n",
    "    categoria_produto = random.choice(categorias_produtos)  # Categoria aleatória\n",
    "    canal_vendas = random.choice(canais_vendas)    # Adicionar os dados como uma lista\n",
    "    dados.append([id_venda, data_venda, categoria_produto, canal_vendas, unidades_vendidas, receita, localizacao])# Canal de vendas aleatório\n",
    "    unidades_vendidas = random.randint(1, 10)  # Quantidade de unidades vendidas\n",
    "    preco_unitario = random.uniform(50, 1000)  # Preço por unidade\n",
    "    receita = round(unidades_vendidas * preco_unitario, 2)  # Receita total\n",
    "    localizacao = random.choice(localizacoes)  # Localização aleatória\n",
    "\n"
   ]
  },
  {
   "cell_type": "code",
   "execution_count": 64,
   "id": "738a8921-bdb0-4ae8-8135-a3815e569ed6",
   "metadata": {},
   "outputs": [],
   "source": [
    "# Adicionar os dados como uma lista\n",
    "dados.append([id_venda, data_venda, categoria_produto, canal_vendas, unidades_vendidas, receita, localizacao])"
   ]
  },
  {
   "cell_type": "code",
   "execution_count": 65,
   "id": "ae846b0b-abde-487e-8e02-a6ef6a4c83dc",
   "metadata": {},
   "outputs": [
    {
     "name": "stdout",
     "output_type": "stream",
     "text": [
      "Número de linhas em 'dados': 2001\n"
     ]
    }
   ],
   "source": [
    "# Verificar se a lista está correta\n",
    "print(f\"Número de linhas em 'dados': {len(dados)}\")"
   ]
  },
  {
   "cell_type": "code",
   "execution_count": 66,
   "id": "5d922ce5-9ec8-4664-962d-6dbbd7975fce",
   "metadata": {},
   "outputs": [
    {
     "name": "stdout",
     "output_type": "stream",
     "text": [
      "Número de colunas por linha: 7\n"
     ]
    }
   ],
   "source": [
    "if dados:\n",
    "    print(f\"Número de colunas por linha: {len(dados[0])}\")"
   ]
  },
  {
   "cell_type": "code",
   "execution_count": 67,
   "id": "47ba2d73-5615-4a35-8a8b-25559c7d36d4",
   "metadata": {},
   "outputs": [],
   "source": [
    "# Verificar a pasta de destino\n",
    "output_dir = \"data/raw\"\n",
    "os.makedirs(output_dir, exist_ok=True)"
   ]
  },
  {
   "cell_type": "code",
   "execution_count": 68,
   "id": "ced3c9dc-c25c-4c56-995f-f0498397f8db",
   "metadata": {},
   "outputs": [],
   "source": [
    "# Criar DataFrame\n",
    "colunas = ['id_venda', 'data_venda', 'categoria_produto', 'canal_vendas', 'unidades_vendidas', 'receita', 'localizacao']\n",
    "df = pd.DataFrame(dados, columns=colunas)"
   ]
  },
  {
   "cell_type": "code",
   "execution_count": 69,
   "id": "3aa634d4-1f95-468a-b276-a438781c76e1",
   "metadata": {},
   "outputs": [
    {
     "name": "stdout",
     "output_type": "stream",
     "text": [
      "   id_venda  data_venda categoria_produto canal_vendas  unidades_vendidas  \\\n",
      "0     16004  2024-08-06      Smartwatches    Parceiros                  4   \n",
      "1     32310  2024-10-27           Tablets    Parceiros                  1   \n",
      "2     55062  2024-10-26       Smartphones    Parceiros                  1   \n",
      "3     39469  2024-01-03       Smartphones   E-commerce                  9   \n",
      "4     97146  2024-10-19        Acessórios   E-commerce                 10   \n",
      "\n",
      "   receita     localizacao  \n",
      "0  2537.23       São Paulo  \n",
      "1   191.46  Rio de Janeiro  \n",
      "2   400.98  Belo Horizonte  \n",
      "3  8486.94       São Paulo  \n",
      "4  8640.96    Porto Alegre  \n"
     ]
    }
   ],
   "source": [
    "# Visualizar as primeiras linhas do DataFrame\n",
    "print(df.head())"
   ]
  },
  {
   "cell_type": "code",
   "execution_count": 70,
   "id": "2c832ce0-0dd0-4add-b1c4-70c02622acf4",
   "metadata": {},
   "outputs": [],
   "source": [
    "# Verificar a pasta de destino\n",
    "pasta_destino = \"data/raw\"\n",
    "os.makedirs(pasta_destino, exist_ok=True)"
   ]
  },
  {
   "cell_type": "code",
   "execution_count": 71,
   "id": "f20ec6fd-999c-4e44-ba07-97ab8a6746b6",
   "metadata": {},
   "outputs": [],
   "source": [
    "# Definir o caminho do arquivo CSV\n",
    "caminho_arquivo = os.path.join(pasta_destino, \"dados_vendas.csv\")"
   ]
  },
  {
   "cell_type": "code",
   "execution_count": 72,
   "id": "2d359449-edee-4222-a14f-19c40b57a745",
   "metadata": {},
   "outputs": [],
   "source": [
    "# Salvar como CSV\n",
    "df.to_csv(caminho_arquivo, index=False)"
   ]
  },
  {
   "cell_type": "code",
   "execution_count": 73,
   "id": "8e20f677-8ce6-4254-9ab8-70e6c443ad2a",
   "metadata": {},
   "outputs": [
    {
     "name": "stdout",
     "output_type": "stream",
     "text": [
      "Conjunto de dados criado e salvo em: data/raw\\dados_vendas.csv\n"
     ]
    }
   ],
   "source": [
    "print(f\"Conjunto de dados criado e salvo em: {caminho_arquivo}\")"
   ]
  }
 ],
 "metadata": {
  "kernelspec": {
   "display_name": "Python 3 (ipykernel)",
   "language": "python",
   "name": "python3"
  },
  "language_info": {
   "codemirror_mode": {
    "name": "ipython",
    "version": 3
   },
   "file_extension": ".py",
   "mimetype": "text/x-python",
   "name": "python",
   "nbconvert_exporter": "python",
   "pygments_lexer": "ipython3",
   "version": "3.12.7"
  }
 },
 "nbformat": 4,
 "nbformat_minor": 5
}
